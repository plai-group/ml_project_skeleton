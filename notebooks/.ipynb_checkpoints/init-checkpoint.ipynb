{
 "cells": [
  {
   "cell_type": "code",
   "execution_count": 2,
   "metadata": {},
   "outputs": [],
   "source": [
    "# A place for all jupyter boilerplate code\n",
    "# Load into other notebooks with: \n",
    "# %run init.ipynb"
   ]
  },
  {
   "cell_type": "code",
   "execution_count": 11,
   "metadata": {
    "ExecuteTime": {
     "end_time": "2018-11-30T16:58:00.913933Z",
     "start_time": "2018-11-30T16:57:59.506651Z"
    }
   },
   "outputs": [
    {
     "name": "stdout",
     "output_type": "stream",
     "text": [
      "The autoreload extension is already loaded. To reload it, use:\n",
      "  %reload_ext autoreload\n"
     ]
    },
    {
     "data": {
      "text/html": [
       "<style>.container {width:90% !important;}</style>"
      ],
      "text/plain": [
       "<IPython.core.display.HTML object>"
      ]
     },
     "metadata": {},
     "output_type": "display_data"
    }
   ],
   "source": [
    "%matplotlib inline\n",
    "%load_ext autoreload\n",
    "%autoreload 2\n",
    "import math\n",
    "import matplotlib.pyplot as plt\n",
    "import numpy as np\n",
    "import numpy.random as npr\n",
    "import pandas as pd\n",
    "import seaborn as sns\n",
    "import torch\n",
    "from IPython.core.display import display, Image, HTML\n",
    "from IPython.core.magic import register_cell_magic,\\\n",
    "                               register_line_cell_magic,\\\n",
    "                               register_line_magic\n",
    "\n",
    "# Set default cell width\n",
    "display(HTML('<style>.container {width:90% !important;}</style>'))\n",
    "\n",
    "# Set default matplotlib settings\n",
    "plt.rcParams['figure.figsize'] = (10, 7)\n",
    "plt.rcParams['lines.linewidth'] = 3\n",
    "plt.rcParams['figure.titlesize'] = 26\n",
    "plt.rcParams['axes.labelsize'] = 18\n",
    "plt.rcParams['axes.titlesize'] = 22\n",
    "plt.rcParams['xtick.labelsize'] = 14\n",
    "plt.rcParams['ytick.labelsize'] = 14\n",
    "plt.rcParams['legend.fontsize'] = 16\n",
    "\n",
    "# Set seaborn colours\n",
    "sns.set_style('darkgrid')\n",
    "sns.set_palette('colorblind')\n",
    "blue, orange, green, red, purple, brown, pink, grey, yellow, cyan = sns.color_palette('colorblind')\n",
    "black = (0, 0, 0)\n",
    "white = (1, 1, 1)"
   ]
  },
  {
   "cell_type": "code",
   "execution_count": null,
   "metadata": {
    "ExecuteTime": {
     "end_time": "2018-09-06T21:06:06.691904Z",
     "start_time": "2018-09-06T21:06:06.659296Z"
    }
   },
   "outputs": [],
   "source": []
  }
 ],
 "metadata": {
  "anaconda-cloud": {},
  "hide_input": false,
  "kernelspec": {
   "display_name": "Python 3",
   "language": "python",
   "name": "python3"
  },
  "language_info": {
   "codemirror_mode": {
    "name": "ipython",
    "version": 3
   },
   "file_extension": ".py",
   "mimetype": "text/x-python",
   "name": "python",
   "nbconvert_exporter": "python",
   "pygments_lexer": "ipython3",
   "version": "3.6.5"
  },
  "nav_menu": {},
  "toc": {
   "base_numbering": 1,
   "nav_menu": {
    "height": "102px",
    "width": "252px"
   },
   "number_sections": true,
   "sideBar": true,
   "skip_h1_title": false,
   "title_cell": "Table of Contents",
   "title_sidebar": "Contents",
   "toc_cell": true,
   "toc_position": {},
   "toc_section_display": "block",
   "toc_window_display": false
  },
  "toc_position": {
   "height": "982px",
   "left": "0px",
   "right": "auto",
   "top": "106px",
   "width": "212px"
  }
 },
 "nbformat": 4,
 "nbformat_minor": 1
}
